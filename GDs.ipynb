{
 "cells": [
  {
   "cell_type": "code",
   "execution_count": 2,
   "metadata": {},
   "outputs": [
    {
     "data": {
      "image/png": "[encoded data removed]",
      "text/plain": [
       "<Figure size 432x288 with 1 Axes>"
      ]
     },
     "metadata": {
      "needs_background": "light"
     },
     "output_type": "display_data"
    }
   ],
   "source": [
    "import numpy as np\n",
    "import pandas as pd\n",
    "import matplotlib.pyplot as plt\n",
    "\n",
    "# Setting the random seed, feel free to change it and see different solutions.\n",
    "np.random.seed(42)\n",
    "\n",
    "\n",
    "def sigmoid(x):\n",
    "    return 1.0/(1.0+np.exp(-x)) \n",
    "#def stepFunction(t):\n",
    "#    if t >= 0:\n",
    "#        return 1\n",
    "#    return 0\n",
    "\n",
    "def prediction(X, W, b):\n",
    "    return stepFunction((np.matmul(X,W)+b)[0])\n",
    "\n",
    "# TODO: Fill in the code below to implement the perceptron trick.\n",
    "# The function should receive as inputs the data X, the labels y,\n",
    "# the weights W (as an array), and the bias b,\n",
    "# update the weights and bias W, b, according to the perceptron algorithm,\n",
    "# and return W and b.\n",
    "def perceptronStep(X, y, W, b, learn_rate = 0.01):\n",
    "    for i in range(len(X)):\n",
    "        y_hat = prediction(X[i],W,b)\n",
    "        if y[i]-y_hat == 1:\n",
    "            W[0] += X[i][0]*learn_rate\n",
    "            W[1] += X[i][1]*learn_rate\n",
    "            b += learn_rate\n",
    "        elif y[i]-y_hat == -1:\n",
    "            W[0] -= X[i][0]*learn_rate\n",
    "            W[1] -= X[i][1]*learn_rate\n",
    "            b -= learn_rate\n",
    "    return W, b\n",
    "\n",
    "   \n",
    "# This function runs the perceptron algorithm repeatedly on the dataset,\n",
    "# and returns a few of the boundary lines obtained in the iterations,\n",
    "# for plotting purposes.\n",
    "# Feel free to play with the learning rate and the num_epochs,\n",
    "# and see your results plotted below.\n",
    "def trainPerceptronAlgorithm(X=\"\", y=\"\", learn_rate = 0.1, num_epochs = 250):\n",
    "    X = np.array([[0,0],[0,1],[1,0],[1,1]])\n",
    "    y = np.array([0,0,0,1])\n",
    "    x_min, x_max = min(X.T[0]), max(X.T[0])\n",
    "    y_min, y_max = min(X.T[1]), max(X.T[1])\n",
    "    W = np.array(np.random.rand(2,1))\n",
    "    b = np.random.rand(1)[0] + x_max\n",
    "    # These are the solution lines that get plotted below.\n",
    "    boundary_lines = []\n",
    "    for i in range(num_epochs):\n",
    "        # In each epoch, we apply the perceptron step.\n",
    "        W, b = perceptronStep(X, y, W, b, learn_rate)\n",
    "        boundary_lines.append((-W[0]/W[1], -b/W[1]))\n",
    "    return boundary_lines[-1] #chon akhaarin behtaring javab\n",
    "\n",
    "result = trainPerceptronAlgorithm()\n",
    "\n",
    "\n",
    "\n",
    "def plot(y,w=-1,b=1.5):\n",
    "    m = np.linspace(-2,2,100)\n",
    "    X = np.array([[0,0],[0,1],[1,0],[1,1]])\n",
    "    for i in X:\n",
    "        plt.plot(i[0],i[1], 'bo')\n",
    "        plt.axis([-2, 2, -2, 2])\n",
    "    plt.plot(m,[x * y[0]+y[1] for x in m])\n",
    "    plt.show()\n",
    "plot(result)"
   ]
  },
  {
   "cell_type": "code",
   "execution_count": 59,
   "metadata": {},
   "outputs": [
    {
     "data": {
      "image/png": "[encoded data removed]",
      "text/plain": [
       "<Figure size 432x288 with 1 Axes>"
      ]
     },
     "metadata": {
      "needs_background": "light"
     },
     "output_type": "display_data"
    }
   ],
   "source": [
    "import numpy as np\n",
    "import pandas as pd\n",
    "import matplotlib.pyplot as plt\n",
    "\n",
    "# Setting the random seed, feel free to change it and see different solutions.\n",
    "np.random.seed(42)\n",
    "\n",
    "\n",
    "\n",
    "# def sigmoid(x):\n",
    "#     return np.divide(1.0,1.0+np.exp(np.multiply(-1,x)))\n",
    "\n",
    "def sigmoid(x):\n",
    "    return 1.0/(1.0+np.exp(-x)) \n",
    "\n",
    "\"\"\"\n",
    "#wi - alpha(y^ - y)xiGradian disen\n",
    "#y^ =sigmoid(w_old*x+bias)\n",
    "\"\"\"\n",
    "def updateW(w,x,lable,bias,alpha=0.1):\n",
    "    for x1,lable1 in zip(x,lable):\n",
    "        predict=np.matmul(x1,w)+bias\n",
    "        w[0]=w[0] - np.multiply(alpha,(sigmoid(predict[0])-lable1)*x1.T)[0] #cross entropy sgd\n",
    "        w[1]=w[1] - np.multiply(alpha,(sigmoid(predict[0])-lable1)*x1.T)[1] \n",
    "        bias = bias - alpha*(sigmoid(predict[0])-lable1)\n",
    "    return w,bias\n",
    "    \n",
    "    #1-0=1 or 0-1 =-1\n",
    "                         \n",
    "\n",
    "\n",
    "\n",
    "X = np.array([[0,0],[0,1],[1,0],[1,1]])\n",
    "W = np.array(np.random.rand(2,1))\n",
    "y = np.array([0,0,0,1])\n",
    "x_min, x_max = min(X.T[0]), max(X.T[0])\n",
    "b = np.random.rand(1)[0] + x_max # +x_max bekhater in ke ba asas x bashe\n",
    "epoch=400\n",
    "for i in range(epoch):\n",
    "    W,b=updateW(W,X,y,b)\n",
    "    \n",
    "def plot(y,w=-1,b=1.5):\n",
    "    m = np.linspace(-2,2,100)\n",
    "    X = np.array([[0,0],[0,1],[1,0],[1,1]])\n",
    "    for i in X:\n",
    "        plt.plot(i[0],i[1], 'bo')\n",
    "        plt.axis([-2, 2, -2, 2])\n",
    "    plt.plot(m,[x * y[0]+y[1] for x in m])\n",
    "    plt.show()\n",
    "plot((-W[0]/W[1], -b/W[1])) \n",
    "\n",
    "    \n",
    "\n",
    "    \n",
    "    \n"
   ]
  },
  {
   "cell_type": "code",
   "execution_count": 61,
   "metadata": {},
   "outputs": [
    {
     "data": {
      "image/png": "[encoded data removed]",
      "text/plain": [
       "<Figure size 432x288 with 1 Axes>"
      ]
     },
     "metadata": {
      "needs_background": "light"
     },
     "output_type": "display_data"
    }
   ],
   "source": [
    "import numpy as np\n",
    "import pandas as pd\n",
    "import matplotlib.pyplot as plt\n",
    "\n",
    "# Setting the random seed, feel free to change it and see different solutions.\n",
    "np.random.seed(42)\n",
    "\n",
    "\n",
    "\n",
    "# def sigmoid(x):\n",
    "#     return np.divide(1.0,1.0+np.exp(np.multiply(-1,x)))\n",
    "\n",
    "def sigmoid(x):\n",
    "    return 1.0/(1.0+np.exp(-x)) \n",
    "\n",
    "\"\"\"\n",
    "#wi - alpha(y^ - y)xiGradian disen\n",
    "#y^ =sigmoid(w_old*x+bias)\n",
    "\"\"\"\n",
    "def updateW(w,x,lable,bias,alpha=0.1):\n",
    "    for x1,lable1 in zip(x,lable):\n",
    "        predict=np.matmul(x1,w)+bias\n",
    "        w[0]=w[0] - np.multiply(alpha,(sigmoid(predict[0])-lable1)*x1.T)[0] #cross entropy sgd\n",
    "        w[1]=w[1] - np.multiply(alpha,(sigmoid(predict[0])-lable1)*x1.T)[1] \n",
    "        bias = bias - alpha*(sigmoid(predict[0])-lable1)\n",
    "    return w,bias\n",
    "    \n",
    "    #1-0=1 or 0-1 =-1\n",
    "                         \n",
    "\n",
    "\n",
    "data = pd.read_csv('data.csv', header=None)\n",
    "X = np.array(data[[0,1]])\n",
    "y = np.array(data[2])\n",
    "\n",
    "\n",
    "        \n",
    "        \n",
    "#X = np.array([[0,0],[0,1],[1,0],[1,1]])\n",
    "W = np.array(np.random.rand(2,1))\n",
    "#y = np.array([0,0,0,1])\n",
    "x_min, x_max = min(X.T[0]), max(X.T[0])\n",
    "b = np.random.rand(1)[0] + x_max # +x_max bekhater in ke ba asas x bashe\n",
    "epoch=400\n",
    "for i in range(epoch):\n",
    "    W,b=updateW(W,X,y,b)\n",
    "    \n",
    "def plot(y,w=-1,b=1.5):\n",
    "    m = np.linspace(-2,2,100)\n",
    "    #X = np.array([[0,0],[0,1],[1,0],[1,1]])\n",
    "    data = pd.read_csv('data.csv', header=None)\n",
    "    X = np.array(data[[0,1]])\n",
    "    y = np.array(data[2])\n",
    "    for i in X:\n",
    "        plt.plot(i[0],i[1], 'bo')\n",
    "        plt.axis([-2, 2, -2, 2])\n",
    "    plt.plot(m,[x * y[0]+y[1] for x in m])\n",
    "    plt.show()\n",
    "plot((-W[0]/W[1], -b/W[1])) \n",
    "\n",
    "    \n",
    "\n",
    "    \n",
    "    \n"
   ]
  }
 ],
 "metadata": {
  "kernelspec": {
   "display_name": "Python 3",
   "language": "python",
   "name": "python3"
  },
  "language_info": {
   "codemirror_mode": {
    "name": "ipython",
    "version": 3
   },
   "file_extension": ".py",
   "mimetype": "text/x-python",
   "name": "python",
   "nbconvert_exporter": "python",
   "pygments_lexer": "ipython3",
   "version": "3.7.4"
  }
 },
 "nbformat": 4,
 "nbformat_minor": 2
}
